{
 "cells": [
  {
   "cell_type": "code",
   "execution_count": 1,
   "metadata": {},
   "outputs": [],
   "source": [
    "import time\n",
    "import psutil\n",
    "import pymysql.cursors\n",
    "from db_connection import get_db_connection, close_db_connection\n",
    "from select_queries import get_billing_by_user"
   ]
  },
  {
   "cell_type": "code",
   "execution_count": 2,
   "metadata": {},
   "outputs": [
    {
     "name": "stdout",
     "output_type": "stream",
     "text": [
      "SSH Tunnel established on port 3307\n",
      "Connection pool created\n",
      "Time elapsed:  0.5706708431243896\n"
     ]
    },
    {
     "data": {
      "text/plain": [
       "{'status': 'success',\n",
       " 'current': [],\n",
       " 'history': [{'billing_id': 2,\n",
       "   'appointment_id_fk': 7,\n",
       "   'amount_due': Decimal('14.10'),\n",
       "   'amount_paid': Decimal('14.10'),\n",
       "   'payment_status': 'paid',\n",
       "   'payment_method': 'cash',\n",
       "   'billing_category': 'history'}],\n",
       " 'explain_result': [{'EXPLAIN': '-> Sort: billing_category  (cost=0.35 rows=1) (actual time=0.0547..0.0547 rows=1 loops=1)\\n    -> Index lookup on b using patient_id_fk (patient_id_fk=251)  (cost=0.35 rows=1) (actual time=0.0265..0.029 rows=1 loops=1)\\n'}],\n",
       " 'show_index_result': [{'Table': 'billing',\n",
       "   'Non_unique': 0,\n",
       "   'Key_name': 'PRIMARY',\n",
       "   'Seq_in_index': 1,\n",
       "   'Column_name': 'billing_id',\n",
       "   'Collation': 'A',\n",
       "   'Cardinality': 1,\n",
       "   'Sub_part': None,\n",
       "   'Packed': None,\n",
       "   'Null': '',\n",
       "   'Index_type': 'BTREE',\n",
       "   'Comment': '',\n",
       "   'Index_comment': '',\n",
       "   'Visible': 'YES',\n",
       "   'Expression': None},\n",
       "  {'Table': 'billing',\n",
       "   'Non_unique': 1,\n",
       "   'Key_name': 'appointment_id_fk',\n",
       "   'Seq_in_index': 1,\n",
       "   'Column_name': 'appointment_id_fk',\n",
       "   'Collation': 'A',\n",
       "   'Cardinality': 1,\n",
       "   'Sub_part': None,\n",
       "   'Packed': None,\n",
       "   'Null': '',\n",
       "   'Index_type': 'BTREE',\n",
       "   'Comment': '',\n",
       "   'Index_comment': '',\n",
       "   'Visible': 'YES',\n",
       "   'Expression': None},\n",
       "  {'Table': 'billing',\n",
       "   'Non_unique': 1,\n",
       "   'Key_name': 'patient_id_fk',\n",
       "   'Seq_in_index': 1,\n",
       "   'Column_name': 'patient_id_fk',\n",
       "   'Collation': 'A',\n",
       "   'Cardinality': 1,\n",
       "   'Sub_part': None,\n",
       "   'Packed': None,\n",
       "   'Null': '',\n",
       "   'Index_type': 'BTREE',\n",
       "   'Comment': '',\n",
       "   'Index_comment': '',\n",
       "   'Visible': 'YES',\n",
       "   'Expression': None}],\n",
       " 'memory_used_MB': 0.01171875,\n",
       " 'query_exec_time_seconds': 0.18861913681030273,\n",
       " 'fetch_time_seconds': 0.0,\n",
       " 'total_time_seconds': 0.18861913681030273}"
      ]
     },
     "execution_count": 2,
     "metadata": {},
     "output_type": "execute_result"
    }
   ],
   "source": [
    "def analyse_query(query_function, *arg, **kwargs):\n",
    "    # start the db connection \n",
    "    conn = get_db_connection() \n",
    "\n",
    "    kwargs['analysis_mode'] = True\n",
    "    \n",
    "    start = time.time()\n",
    "    result = query_function(conn, *arg, **kwargs) \n",
    "    end = time.time()\n",
    "    print(\"Time elapsed: \", end - start)\n",
    "    return result \n",
    "\n",
    "\n",
    "analyse_query(get_billing_by_user, 251)"
   ]
  },
  {
   "cell_type": "code",
   "execution_count": null,
   "metadata": {},
   "outputs": [],
   "source": []
  }
 ],
 "metadata": {
  "kernelspec": {
   "display_name": "env",
   "language": "python",
   "name": "python3"
  },
  "language_info": {
   "codemirror_mode": {
    "name": "ipython",
    "version": 3
   },
   "file_extension": ".py",
   "mimetype": "text/x-python",
   "name": "python",
   "nbconvert_exporter": "python",
   "pygments_lexer": "ipython3",
   "version": "3.12.3"
  }
 },
 "nbformat": 4,
 "nbformat_minor": 2
}
